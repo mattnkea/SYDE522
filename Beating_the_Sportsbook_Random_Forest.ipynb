{
  "nbformat": 4,
  "nbformat_minor": 0,
  "metadata": {
    "colab": {
      "name": "Beating the Sportsbook Random Forest.ipynb",
      "provenance": [],
      "collapsed_sections": []
    },
    "kernelspec": {
      "name": "python3",
      "display_name": "Python 3"
    },
    "language_info": {
      "name": "python"
    }
  },
  "cells": [
    {
      "cell_type": "code",
      "execution_count": null,
      "metadata": {
        "id": "geN7OVHhHL50"
      },
      "outputs": [],
      "source": [
        "import pandas as pd\n",
        "import numpy as np\n",
        "from sklearn.model_selection import train_test_split\n",
        "\n",
        "\n",
        "from sklearn.ensemble import RandomForestClassifier\n",
        "import matplotlib.pyplot as plt\n",
        "from sklearn.metrics import accuracy_score"
      ]
    },
    {
      "cell_type": "markdown",
      "source": [
        "# Importing Dataset"
      ],
      "metadata": {
        "id": "bb4HOcvBN2FW"
      }
    },
    {
      "cell_type": "code",
      "source": [
        "df = pd.read_excel(\"nhl odds 2021-22.xlsx\")"
      ],
      "metadata": {
        "id": "aH4qkXDUHUv-"
      },
      "execution_count": null,
      "outputs": []
    },
    {
      "cell_type": "code",
      "source": [
        "#https://towardsdatascience.com/can-we-beat-the-bookmaker-with-machine-learning-45e3b30fc921\n",
        "teams = list(set(df['Home'].values)) # creating a list containing every team\n",
        "n_teams = len(teams) # number of teams\n",
        "teamToIdx = {t: i for i, t in enumerate(teams)} # our team vocabulary\n",
        "\n",
        "# assigning the games' home teams their corresponding team id\n",
        "homeId = [teamToIdx[id] for id in list(df['Home'].values)]\n",
        "df['Home_Id'] = homeId #creating a new column for the home team id\n",
        "\n",
        "# assigning the games' Visitors teams their corresponding team id\n",
        "visitorsId = [teamToIdx[id] for id in list(df['Visitors'].values)]\n",
        "df['Visitors_Id'] = visitorsId # creating a new row for the away team id"
      ],
      "metadata": {
        "id": "bOn9YX6kJCAu"
      },
      "execution_count": null,
      "outputs": []
    },
    {
      "cell_type": "code",
      "source": [
        "df.info()\n"
      ],
      "metadata": {
        "colab": {
          "base_uri": "https://localhost:8080/"
        },
        "id": "pwre3Q5TTmiB",
        "outputId": "6f8438d1-323d-4095-94a2-ad5179c5d0f1"
      },
      "execution_count": null,
      "outputs": [
        {
          "output_type": "stream",
          "name": "stdout",
          "text": [
            "<class 'pandas.core.frame.DataFrame'>\n",
            "RangeIndex: 1238 entries, 0 to 1237\n",
            "Data columns (total 17 columns):\n",
            " #   Column                  Non-Null Count  Dtype  \n",
            "---  ------                  --------------  -----  \n",
            " 0   Date                    1238 non-null   int64  \n",
            " 1   Home                    1238 non-null   object \n",
            " 2   Home Moneyline          1238 non-null   int64  \n",
            " 3   Home Puckline           1238 non-null   float64\n",
            " 4   Home Puckline Odds      1238 non-null   int64  \n",
            " 5   Over Under Total        1238 non-null   float64\n",
            " 6   Over                    1238 non-null   int64  \n",
            " 7   Under                   1238 non-null   int64  \n",
            " 8   Home Goals              1238 non-null   int64  \n",
            " 9   Visitors                1238 non-null   object \n",
            " 10  Visitors Moneyline      1238 non-null   int64  \n",
            " 11  Visitors Puckline       1238 non-null   float64\n",
            " 12  Visitors Puckline Odds  1238 non-null   int64  \n",
            " 13  Visitors Goals          1238 non-null   int64  \n",
            " 14  Winner                  1238 non-null   int64  \n",
            " 15  Home_Id                 1238 non-null   int64  \n",
            " 16  Visitors_Id             1238 non-null   int64  \n",
            "dtypes: float64(3), int64(12), object(2)\n",
            "memory usage: 164.5+ KB\n"
          ]
        }
      ]
    },
    {
      "cell_type": "markdown",
      "source": [
        "## Assigning winners to puckline bet"
      ],
      "metadata": {
        "id": "s6It-b1cN9ph"
      }
    },
    {
      "cell_type": "code",
      "source": [
        "puckline_winner = []\n",
        "\n",
        "for i in range(len(df)):\n",
        "  if (df.loc[i,'Home Puckline'] + df.loc[i,'Home Goals'] ) > df.loc[i,'Visitors Goals']:\n",
        "    puckline_winner.append(1)\n",
        "  elif (df.loc[i,'Visitors Puckline'] + df.loc[i,'Visitors Goals'] ) > df.loc[i,'Home Goals']:\n",
        "    puckline_winner.append(0)\n",
        "  else:\n",
        "    puckline_winner.append(\"error\")\n"
      ],
      "metadata": {
        "id": "zt4flw4im3fX"
      },
      "execution_count": null,
      "outputs": []
    },
    {
      "cell_type": "code",
      "source": [
        "df['puckline_winner'] = puckline_winner\n"
      ],
      "metadata": {
        "id": "A9T2qgJwoxCL"
      },
      "execution_count": null,
      "outputs": []
    },
    {
      "cell_type": "markdown",
      "source": [
        "## Test/train split"
      ],
      "metadata": {
        "id": "Rn4D_suHOD5F"
      }
    },
    {
      "cell_type": "code",
      "source": [
        "X = df.drop(columns=['Winner','Home','Visitors',\"Home Goals\", \"Visitors Goals\",\"puckline_winner\"])\n",
        "Y = df['Winner']"
      ],
      "metadata": {
        "id": "72c8SsJ9HjO-"
      },
      "execution_count": null,
      "outputs": []
    },
    {
      "cell_type": "code",
      "source": [
        "X_train, X_test, y_train, y_test = train_test_split(X, Y, test_size=0.2, shuffle=False)\n"
      ],
      "metadata": {
        "id": "f9l8X_nGHk_j"
      },
      "execution_count": null,
      "outputs": []
    },
    {
      "cell_type": "markdown",
      "source": [
        "# Random Forest Function"
      ],
      "metadata": {
        "id": "PC9Q8iTtOIGL"
      }
    },
    {
      "cell_type": "code",
      "source": [
        "rf = RandomForestClassifier(n_estimators = 40)\n",
        "rf.fit(X_train, y_train)"
      ],
      "metadata": {
        "colab": {
          "base_uri": "https://localhost:8080/"
        },
        "id": "s9N7iPQFhcPy",
        "outputId": "f97ad153-877a-4cb7-9334-f1b132e94af5"
      },
      "execution_count": null,
      "outputs": [
        {
          "output_type": "execute_result",
          "data": {
            "text/plain": [
              "RandomForestClassifier(n_estimators=40)"
            ]
          },
          "metadata": {},
          "execution_count": 44
        }
      ]
    },
    {
      "cell_type": "code",
      "source": [
        "prediction = rf.predict(X_test)\n",
        "accuracy = accuracy_score(y_test, prediction)\n",
        "print(\"Model is {:.2%} accurate on test data\".format(accuracy))"
      ],
      "metadata": {
        "id": "JgZxynXNlGaP",
        "colab": {
          "base_uri": "https://localhost:8080/"
        },
        "outputId": "4472e098-b570-44d2-961f-8838f640c13f"
      },
      "execution_count": null,
      "outputs": [
        {
          "output_type": "stream",
          "name": "stdout",
          "text": [
            "Model is 64.11% accurate on test data\n"
          ]
        }
      ]
    },
    {
      "cell_type": "markdown",
      "source": [
        "## Determining Total Profit on Test case"
      ],
      "metadata": {
        "id": "-RkdQuDVOMsU"
      }
    },
    {
      "cell_type": "code",
      "source": [
        "def decimal_odds(amount):\n",
        "  if amount > 0:  #If postive\n",
        "    decimal = amount/100 + 1\n",
        "  else:           #If negative\n",
        "    decimal = 1 - 100/amount \n",
        "  return decimal"
      ],
      "metadata": {
        "id": "WvdJdPV5PE7b"
      },
      "execution_count": null,
      "outputs": []
    },
    {
      "cell_type": "code",
      "source": [
        "units = 100\n",
        "\n",
        "\n",
        "home_odds = np.array(X_test.loc[:,'Home Moneyline'])\n",
        "visitors_odds = np.array(X_test.loc[:,'Visitors Moneyline'])\n",
        "game_outcome = np.array(y_test)\n",
        "\n",
        "total_bets_placed = 0\n",
        "\n",
        "possible_winnings = np.zeros(len(home_odds))\n",
        "\n",
        "for i in range(len(possible_winnings)):\n",
        "  total_bets_placed = total_bets_placed + units\n",
        "\n",
        "  if  (game_outcome[i]+prediction[i]) == 2: #\u0010Home team wins and prediction correct\n",
        "    possible_winnings[i] = units * decimal_odds(home_odds[i])\n",
        "  elif (game_outcome[i]+prediction[i]) == 0: #Visitors team wins and prediction correct\n",
        "    possible_winnings[i] = units * decimal_odds(visitors_odds[i])\n",
        "  else:\n",
        "    possible_winnings[i] = 0\n",
        "\n",
        "\n",
        "winnings = sum(possible_winnings) - total_bets_placed\n",
        "\n",
        "print(\"If we were to place ${:.2f} on every test bet and win {:.2%} of the time, we would win ${:.2f}. This means that ${:.2f} would have been staked\".format(units,accuracy,winnings, total_bets_placed))  "
      ],
      "metadata": {
        "colab": {
          "base_uri": "https://localhost:8080/"
        },
        "id": "okfqTkumF9Uz",
        "outputId": "305c848f-de1a-4818-b3a8-755183c2f86e"
      },
      "execution_count": null,
      "outputs": [
        {
          "output_type": "stream",
          "name": "stdout",
          "text": [
            "If we were to place $100.00 on every test bet and win 64.11% of the time, we would win $1434.77. This means that $24800.00 would have been staked\n"
          ]
        }
      ]
    },
    {
      "cell_type": "markdown",
      "source": [
        "### Determining if changing the units bet on underdogs/favourites has a benefical outcome on profits"
      ],
      "metadata": {
        "id": "ik75PROMOa2H"
      }
    },
    {
      "cell_type": "code",
      "source": [
        "def units_to_bet(odds,units):\n",
        "  if odds > 150:  # heavy underdog\n",
        "    bet = units*1\n",
        "  elif odds < - 150: #heavy favourite\n",
        "    bet = units*1\n",
        "  else:\n",
        "    bet = units\n",
        "  return bet"
      ],
      "metadata": {
        "id": "xHe8dp_YcgJR"
      },
      "execution_count": null,
      "outputs": []
    },
    {
      "cell_type": "code",
      "source": [
        "units = 10\n",
        "\n",
        "\n",
        "home_odds = np.array(X_test.loc[:,'Home Moneyline'])\n",
        "visitors_odds = np.array(X_test.loc[:,'Visitors Moneyline'])\n",
        "game_outcome = np.array(y_test)\n",
        "\n",
        "total_bets_placed = 0\n",
        "\n",
        "possible_winnings = np.zeros(len(home_odds))\n",
        "\n",
        "for i in range(len(possible_winnings)):\n",
        "\n",
        "\n",
        "  if  (game_outcome[i]+prediction[i]) == 2: #\u0010Home team wins and prediction correct\n",
        "    possible_winnings[i] = units_to_bet(home_odds[i],units) * decimal_odds(home_odds[i])\n",
        "    total_bets_placed = total_bets_placed + units_to_bet(home_odds[i],units)\n",
        "  elif (game_outcome[i]+prediction[i]) == 0: #Visitors team wins and prediction correct\n",
        "    possible_winnings[i] = units_to_bet(visitors_odds[i],units) * decimal_odds(visitors_odds[i])\n",
        "    total_bets_placed = total_bets_placed + units_to_bet(visitors_odds[i],units)\n",
        "  elif (game_outcome[i] == 1) and (prediction[i] == 0):\n",
        "    possible_winnings[i] = 0\n",
        "    total_bets_placed = total_bets_placed + units_to_bet(visitors_odds[i],units)\n",
        "  else:\n",
        "    total_bets_placed = total_bets_placed + units_to_bet(home_odds[i],units)\n",
        "\n",
        "\n",
        "winnings = sum(possible_winnings) - total_bets_placed\n",
        "\n",
        "print(\"If we were to place ${:.2f} on every test bet and win {:.2%} of the time, we would win ${:.2f}\".format(units,accuracy,winnings))  "
      ],
      "metadata": {
        "colab": {
          "base_uri": "https://localhost:8080/"
        },
        "id": "EwuTEPFbYaRn",
        "outputId": "d8bd8f60-05ca-4f51-fda5-ae3bce35b14e"
      },
      "execution_count": null,
      "outputs": [
        {
          "output_type": "stream",
          "name": "stdout",
          "text": [
            "If we were to place $10.00 on every test bet and win 58.06% of the time, we would win $34.38\n"
          ]
        }
      ]
    },
    {
      "cell_type": "markdown",
      "source": [
        "## Predicting Future Games"
      ],
      "metadata": {
        "id": "sZJTzYokIA9h"
      }
    },
    {
      "cell_type": "code",
      "source": [
        "today=pd.read_excel('20220424.xlsx')\n",
        "\n",
        "#https://towardsdatascience.com/can-we-beat-the-bookmaker-with-machine-learning-45e3b30fc921\n",
        "\n",
        "\n",
        "# assigning the games' home teams their corresponding team id\n",
        "homeId = [teamToIdx[id] for id in list(today['Home'].values)]\n",
        "today['Home_Id'] = homeId #creating a new column for the home team id\n",
        "\n",
        "# assigning the games' Visitors teams their corresponding team id\n",
        "visitorsId = [teamToIdx[id] for id in list(today['Visitors'].values)]\n",
        "today['Visitors_Id'] = visitorsId # creating a new row for the away team id"
      ],
      "metadata": {
        "id": "rAS_7Xc11Q-E"
      },
      "execution_count": null,
      "outputs": []
    },
    {
      "cell_type": "code",
      "source": [
        "X = today.drop(columns=['Winner','Home','Visitors',\"Home Goals\", \"Visitors Goals\"])\n",
        "prediction_today = rf.predict(X)"
      ],
      "metadata": {
        "id": "zQ3rsPA35sJK"
      },
      "execution_count": null,
      "outputs": []
    },
    {
      "cell_type": "code",
      "source": [
        "today[\"Prediction\"] = prediction_today\n",
        "pd.DataFrame(today).to_csv(\"prediction_today.csv\")"
      ],
      "metadata": {
        "id": "Na8FBrt453BO"
      },
      "execution_count": null,
      "outputs": []
    },
    {
      "cell_type": "markdown",
      "source": [
        "# Puckline testing"
      ],
      "metadata": {
        "id": "dtcKzk-HpDvq"
      }
    },
    {
      "cell_type": "code",
      "source": [
        "X_puck = df.drop(columns=['Winner','Home','Visitors',\"Home Goals\", \"Visitors Goals\",\"puckline_winner\"])\n",
        "Y_puck = df['puckline_winner']\n",
        "\n",
        "X_train_puck, X_test_puck, y_train_puck, y_test_puck = train_test_split(X_puck, Y_puck, test_size=0.2, shuffle=False)\n",
        "\n",
        "\n",
        "rf_puck = RandomForestClassifier(n_estimators = 30)\n",
        "rf_puck.fit(X_train_puck, y_train_puck)\n",
        "\n",
        "prediction = rf_puck.predict(X_test_puck)\n",
        "accuracy = accuracy_score(y_test_puck, prediction)\n",
        "print(\"Model is {:.2%} accurate on test data\".format(accuracy))"
      ],
      "metadata": {
        "colab": {
          "base_uri": "https://localhost:8080/"
        },
        "id": "FVQARXsZpDhL",
        "outputId": "97263eeb-3325-4501-968a-9da37516b0bc"
      },
      "execution_count": null,
      "outputs": [
        {
          "output_type": "stream",
          "name": "stdout",
          "text": [
            "Model is 53.63% accurate on test data\n"
          ]
        }
      ]
    },
    {
      "cell_type": "code",
      "source": [
        "units = 10\n",
        "\n",
        "\n",
        "home_odds = np.array(X_test.loc[:,'Home Puckline Odds'])\n",
        "visitors_odds = np.array(X_test.loc[:,'Visitors Puckline Odds'])\n",
        "game_outcome = np.array(y_test)\n",
        "\n",
        "total_bets_placed = 0\n",
        "\n",
        "possible_winnings = np.zeros(len(home_odds))\n",
        "\n",
        "for i in range(len(possible_winnings)):\n",
        "\n",
        "\n",
        "  if  (game_outcome[i]+prediction[i]) == 2: #\u0010Home team wins and prediction correct\n",
        "    possible_winnings[i] = units_to_bet(home_odds[i],units) * decimal_odds(home_odds[i])\n",
        "    total_bets_placed = total_bets_placed + units_to_bet(home_odds[i],units)\n",
        "  elif (game_outcome[i]+prediction[i]) == 0: #Visitors team wins and prediction correct\n",
        "    possible_winnings[i] = units_to_bet(visitors_odds[i],units) * decimal_odds(visitors_odds[i])\n",
        "    total_bets_placed = total_bets_placed + units_to_bet(visitors_odds[i],units)\n",
        "  elif (game_outcome[i] == 1) and (prediction[i] == 0):\n",
        "    possible_winnings[i] = 0\n",
        "    total_bets_placed = total_bets_placed + units_to_bet(visitors_odds[i],units)\n",
        "  else:\n",
        "    total_bets_placed = total_bets_placed + units_to_bet(home_odds[i],units)\n",
        "\n",
        "\n",
        "winnings = sum(possible_winnings) - total_bets_placed\n",
        "\n",
        "print(\"If we were to place ${:.2f} on every test bet and win {:.2%} of the time, we would win ${:.2f}, betting ${:.2f}\".format(units,accuracy,winnings, total_bets_placed))"
      ],
      "metadata": {
        "colab": {
          "base_uri": "https://localhost:8080/"
        },
        "id": "Kdu8S_gZprNl",
        "outputId": "1e70c22c-b348-4c1d-92cc-5c2296b9cb76"
      },
      "execution_count": null,
      "outputs": [
        {
          "output_type": "stream",
          "name": "stdout",
          "text": [
            "If we were to place $10.00 on every test bet and win 53.63% of the time, we would win $-490.13, betting $2480.00\n"
          ]
        }
      ]
    }
  ]
}