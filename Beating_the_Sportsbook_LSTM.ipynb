{
  "nbformat": 4,
  "nbformat_minor": 0,
  "metadata": {
    "colab": {
      "name": "Beating the Sportsbook LSTM.ipynb",
      "provenance": []
    },
    "kernelspec": {
      "name": "python3",
      "display_name": "Python 3"
    },
    "language_info": {
      "name": "python"
    },
    "accelerator": "GPU"
  },
  "cells": [
    {
      "cell_type": "code",
      "execution_count": null,
      "metadata": {
        "id": "geN7OVHhHL50"
      },
      "outputs": [],
      "source": [
        "import pandas as pd\n",
        "import numpy as np\n",
        "from sklearn.model_selection import train_test_split\n",
        "from tensorflow.keras.models import Sequential\n",
        "from tensorflow.keras.layers import LSTM, Embedding, Dropout, Dense, BatchNormalization\n",
        "import matplotlib.pyplot as plt\n",
        "from sklearn.metrics import accuracy_score"
      ]
    },
    {
      "cell_type": "code",
      "source": [
        "df = pd.read_excel(\"nhl odds 2021-22.xlsx\")"
      ],
      "metadata": {
        "id": "aH4qkXDUHUv-"
      },
      "execution_count": null,
      "outputs": []
    },
    {
      "cell_type": "code",
      "source": [
        "#https://towardsdatascience.com/can-we-beat-the-bookmaker-with-machine-learning-45e3b30fc921\n",
        "teams = list(set(df['Home'].values)) # creating a list containing every team\n",
        "n_teams = len(teams) # number of teams\n",
        "teamToIdx = {t: i for i, t in enumerate(teams)} # our team vocabulary\n",
        "\n",
        "# assigning the games' home teams their corresponding team id\n",
        "homeId = [teamToIdx[id] for id in list(df['Home'].values)]\n",
        "df['Home_Id'] = homeId #creating a new column for the home team id\n",
        "\n",
        "# assigning the games' Visitors teams their corresponding team id\n",
        "visitorsId = [teamToIdx[id] for id in list(df['Visitors'].values)]\n",
        "df['Visitors_Id'] = visitorsId # creating a new row for the away team id"
      ],
      "metadata": {
        "id": "bOn9YX6kJCAu"
      },
      "execution_count": null,
      "outputs": []
    },
    {
      "cell_type": "code",
      "source": [
        "df.head()"
      ],
      "metadata": {
        "colab": {
          "base_uri": "https://localhost:8080/",
          "height": 302
        },
        "id": "pwre3Q5TTmiB",
        "outputId": "c3b5829c-e9b2-4284-85d1-0bf7d409c214"
      },
      "execution_count": null,
      "outputs": [
        {
          "output_type": "execute_result",
          "data": {
            "text/plain": [
              "   Date        Home  Home Moneyline  Home Puckline  Home Puckline Odds  \\\n",
              "0  1012    TampaBay            -140           -1.5                 100   \n",
              "1  1012       Vegas            -290           -1.5                 110   \n",
              "2  1013  Washington            -135           -1.5                 205   \n",
              "3  1013     Toronto            -190           -1.5                 125   \n",
              "4  1013    Edmonton            -180           -1.5                 115   \n",
              "\n",
              "   Over Under Total  Over  Under  Home Goals       Visitors  \\\n",
              "0               6.0   100   -120           2     Pittsburgh   \n",
              "1               5.5  -130    110           4  SeattleKraken   \n",
              "2               6.0   100   -120           5      NYRangers   \n",
              "3               5.5   100   -120           2       Montreal   \n",
              "4               6.5  -120    100           3      Vancouver   \n",
              "\n",
              "   Visitors Moneyline  Visitors Puckline  Visitors Puckline Odds  \\\n",
              "0                 120                1.5                    -120   \n",
              "1                 235                1.5                    -130   \n",
              "2                 115                1.5                    -235   \n",
              "3                 160                1.5                    -145   \n",
              "4                 150                1.5                    -135   \n",
              "\n",
              "   Visitors Goals  Winner  Home_Id  Visitors_Id  \n",
              "0               6       0        6           15  \n",
              "1               3       1       13           16  \n",
              "2               1       1       10           23  \n",
              "3               1       1        0           20  \n",
              "4               2       1        8           21  "
            ],
            "text/html": [
              "\n",
              "  <div id=\"df-1d62874a-b2da-4a76-8d9e-2b68ea0e1f34\">\n",
              "    <div class=\"colab-df-container\">\n",
              "      <div>\n",
              "<style scoped>\n",
              "    .dataframe tbody tr th:only-of-type {\n",
              "        vertical-align: middle;\n",
              "    }\n",
              "\n",
              "    .dataframe tbody tr th {\n",
              "        vertical-align: top;\n",
              "    }\n",
              "\n",
              "    .dataframe thead th {\n",
              "        text-align: right;\n",
              "    }\n",
              "</style>\n",
              "<table border=\"1\" class=\"dataframe\">\n",
              "  <thead>\n",
              "    <tr style=\"text-align: right;\">\n",
              "      <th></th>\n",
              "      <th>Date</th>\n",
              "      <th>Home</th>\n",
              "      <th>Home Moneyline</th>\n",
              "      <th>Home Puckline</th>\n",
              "      <th>Home Puckline Odds</th>\n",
              "      <th>Over Under Total</th>\n",
              "      <th>Over</th>\n",
              "      <th>Under</th>\n",
              "      <th>Home Goals</th>\n",
              "      <th>Visitors</th>\n",
              "      <th>Visitors Moneyline</th>\n",
              "      <th>Visitors Puckline</th>\n",
              "      <th>Visitors Puckline Odds</th>\n",
              "      <th>Visitors Goals</th>\n",
              "      <th>Winner</th>\n",
              "      <th>Home_Id</th>\n",
              "      <th>Visitors_Id</th>\n",
              "    </tr>\n",
              "  </thead>\n",
              "  <tbody>\n",
              "    <tr>\n",
              "      <th>0</th>\n",
              "      <td>1012</td>\n",
              "      <td>TampaBay</td>\n",
              "      <td>-140</td>\n",
              "      <td>-1.5</td>\n",
              "      <td>100</td>\n",
              "      <td>6.0</td>\n",
              "      <td>100</td>\n",
              "      <td>-120</td>\n",
              "      <td>2</td>\n",
              "      <td>Pittsburgh</td>\n",
              "      <td>120</td>\n",
              "      <td>1.5</td>\n",
              "      <td>-120</td>\n",
              "      <td>6</td>\n",
              "      <td>0</td>\n",
              "      <td>6</td>\n",
              "      <td>15</td>\n",
              "    </tr>\n",
              "    <tr>\n",
              "      <th>1</th>\n",
              "      <td>1012</td>\n",
              "      <td>Vegas</td>\n",
              "      <td>-290</td>\n",
              "      <td>-1.5</td>\n",
              "      <td>110</td>\n",
              "      <td>5.5</td>\n",
              "      <td>-130</td>\n",
              "      <td>110</td>\n",
              "      <td>4</td>\n",
              "      <td>SeattleKraken</td>\n",
              "      <td>235</td>\n",
              "      <td>1.5</td>\n",
              "      <td>-130</td>\n",
              "      <td>3</td>\n",
              "      <td>1</td>\n",
              "      <td>13</td>\n",
              "      <td>16</td>\n",
              "    </tr>\n",
              "    <tr>\n",
              "      <th>2</th>\n",
              "      <td>1013</td>\n",
              "      <td>Washington</td>\n",
              "      <td>-135</td>\n",
              "      <td>-1.5</td>\n",
              "      <td>205</td>\n",
              "      <td>6.0</td>\n",
              "      <td>100</td>\n",
              "      <td>-120</td>\n",
              "      <td>5</td>\n",
              "      <td>NYRangers</td>\n",
              "      <td>115</td>\n",
              "      <td>1.5</td>\n",
              "      <td>-235</td>\n",
              "      <td>1</td>\n",
              "      <td>1</td>\n",
              "      <td>10</td>\n",
              "      <td>23</td>\n",
              "    </tr>\n",
              "    <tr>\n",
              "      <th>3</th>\n",
              "      <td>1013</td>\n",
              "      <td>Toronto</td>\n",
              "      <td>-190</td>\n",
              "      <td>-1.5</td>\n",
              "      <td>125</td>\n",
              "      <td>5.5</td>\n",
              "      <td>100</td>\n",
              "      <td>-120</td>\n",
              "      <td>2</td>\n",
              "      <td>Montreal</td>\n",
              "      <td>160</td>\n",
              "      <td>1.5</td>\n",
              "      <td>-145</td>\n",
              "      <td>1</td>\n",
              "      <td>1</td>\n",
              "      <td>0</td>\n",
              "      <td>20</td>\n",
              "    </tr>\n",
              "    <tr>\n",
              "      <th>4</th>\n",
              "      <td>1013</td>\n",
              "      <td>Edmonton</td>\n",
              "      <td>-180</td>\n",
              "      <td>-1.5</td>\n",
              "      <td>115</td>\n",
              "      <td>6.5</td>\n",
              "      <td>-120</td>\n",
              "      <td>100</td>\n",
              "      <td>3</td>\n",
              "      <td>Vancouver</td>\n",
              "      <td>150</td>\n",
              "      <td>1.5</td>\n",
              "      <td>-135</td>\n",
              "      <td>2</td>\n",
              "      <td>1</td>\n",
              "      <td>8</td>\n",
              "      <td>21</td>\n",
              "    </tr>\n",
              "  </tbody>\n",
              "</table>\n",
              "</div>\n",
              "      <button class=\"colab-df-convert\" onclick=\"convertToInteractive('df-1d62874a-b2da-4a76-8d9e-2b68ea0e1f34')\"\n",
              "              title=\"Convert this dataframe to an interactive table.\"\n",
              "              style=\"display:none;\">\n",
              "        \n",
              "  <svg xmlns=\"http://www.w3.org/2000/svg\" height=\"24px\"viewBox=\"0 0 24 24\"\n",
              "       width=\"24px\">\n",
              "    <path d=\"M0 0h24v24H0V0z\" fill=\"none\"/>\n",
              "    <path d=\"M18.56 5.44l.94 2.06.94-2.06 2.06-.94-2.06-.94-.94-2.06-.94 2.06-2.06.94zm-11 1L8.5 8.5l.94-2.06 2.06-.94-2.06-.94L8.5 2.5l-.94 2.06-2.06.94zm10 10l.94 2.06.94-2.06 2.06-.94-2.06-.94-.94-2.06-.94 2.06-2.06.94z\"/><path d=\"M17.41 7.96l-1.37-1.37c-.4-.4-.92-.59-1.43-.59-.52 0-1.04.2-1.43.59L10.3 9.45l-7.72 7.72c-.78.78-.78 2.05 0 2.83L4 21.41c.39.39.9.59 1.41.59.51 0 1.02-.2 1.41-.59l7.78-7.78 2.81-2.81c.8-.78.8-2.07 0-2.86zM5.41 20L4 18.59l7.72-7.72 1.47 1.35L5.41 20z\"/>\n",
              "  </svg>\n",
              "      </button>\n",
              "      \n",
              "  <style>\n",
              "    .colab-df-container {\n",
              "      display:flex;\n",
              "      flex-wrap:wrap;\n",
              "      gap: 12px;\n",
              "    }\n",
              "\n",
              "    .colab-df-convert {\n",
              "      background-color: #E8F0FE;\n",
              "      border: none;\n",
              "      border-radius: 50%;\n",
              "      cursor: pointer;\n",
              "      display: none;\n",
              "      fill: #1967D2;\n",
              "      height: 32px;\n",
              "      padding: 0 0 0 0;\n",
              "      width: 32px;\n",
              "    }\n",
              "\n",
              "    .colab-df-convert:hover {\n",
              "      background-color: #E2EBFA;\n",
              "      box-shadow: 0px 1px 2px rgba(60, 64, 67, 0.3), 0px 1px 3px 1px rgba(60, 64, 67, 0.15);\n",
              "      fill: #174EA6;\n",
              "    }\n",
              "\n",
              "    [theme=dark] .colab-df-convert {\n",
              "      background-color: #3B4455;\n",
              "      fill: #D2E3FC;\n",
              "    }\n",
              "\n",
              "    [theme=dark] .colab-df-convert:hover {\n",
              "      background-color: #434B5C;\n",
              "      box-shadow: 0px 1px 3px 1px rgba(0, 0, 0, 0.15);\n",
              "      filter: drop-shadow(0px 1px 2px rgba(0, 0, 0, 0.3));\n",
              "      fill: #FFFFFF;\n",
              "    }\n",
              "  </style>\n",
              "\n",
              "      <script>\n",
              "        const buttonEl =\n",
              "          document.querySelector('#df-1d62874a-b2da-4a76-8d9e-2b68ea0e1f34 button.colab-df-convert');\n",
              "        buttonEl.style.display =\n",
              "          google.colab.kernel.accessAllowed ? 'block' : 'none';\n",
              "\n",
              "        async function convertToInteractive(key) {\n",
              "          const element = document.querySelector('#df-1d62874a-b2da-4a76-8d9e-2b68ea0e1f34');\n",
              "          const dataTable =\n",
              "            await google.colab.kernel.invokeFunction('convertToInteractive',\n",
              "                                                     [key], {});\n",
              "          if (!dataTable) return;\n",
              "\n",
              "          const docLinkHtml = 'Like what you see? Visit the ' +\n",
              "            '<a target=\"_blank\" href=https://colab.research.google.com/notebooks/data_table.ipynb>data table notebook</a>'\n",
              "            + ' to learn more about interactive tables.';\n",
              "          element.innerHTML = '';\n",
              "          dataTable['output_type'] = 'display_data';\n",
              "          await google.colab.output.renderOutput(dataTable, element);\n",
              "          const docLink = document.createElement('div');\n",
              "          docLink.innerHTML = docLinkHtml;\n",
              "          element.appendChild(docLink);\n",
              "        }\n",
              "      </script>\n",
              "    </div>\n",
              "  </div>\n",
              "  "
            ]
          },
          "metadata": {},
          "execution_count": 4
        }
      ]
    },
    {
      "cell_type": "code",
      "source": [
        "X = df.drop(columns=['Winner','Home','Visitors',\"Date\", \"Home Goals\", \"Visitors Goals\"])\n",
        "Y = df['Winner']"
      ],
      "metadata": {
        "id": "72c8SsJ9HjO-"
      },
      "execution_count": null,
      "outputs": []
    },
    {
      "cell_type": "code",
      "source": [
        "X_train, X_test, y_train, y_test = train_test_split(X, Y, test_size=0.2, shuffle=False)\n",
        "\n",
        "X_train, X_val, y_train, y_val= train_test_split(X_train, y_train, test_size=0.3, shuffle=False)"
      ],
      "metadata": {
        "id": "f9l8X_nGHk_j"
      },
      "execution_count": null,
      "outputs": []
    },
    {
      "cell_type": "code",
      "source": [
        "regressor = Sequential()\n",
        "\n",
        "regressor.add(LSTM(units = 50, return_sequences = True, input_shape = (X_train.shape[1], 1)))\n",
        "regressor.add(Dropout(0.2))\n",
        "\n",
        "\n",
        "regressor.add(LSTM(units = 50, return_sequences = True))\n",
        "regressor.add(Dropout(0.20))\n",
        "\n",
        "regressor.add(LSTM(units = 50, return_sequences = True))\n",
        "regressor.add(Dropout(0.2))\n",
        "\n",
        "regressor.add(LSTM(units = 50))\n",
        "regressor.add(Dropout(0.2))\n",
        "\n",
        "regressor.add(Dense(2))\n",
        "\n",
        "regressor.compile(optimizer = 'adam', loss = 'binary_crossentropy')\n",
        "\n"
      ],
      "metadata": {
        "id": "2NXOZzAdOd62"
      },
      "execution_count": null,
      "outputs": []
    },
    {
      "cell_type": "code",
      "source": [
        "regressor.summary()"
      ],
      "metadata": {
        "colab": {
          "base_uri": "https://localhost:8080/"
        },
        "id": "Cam5diE9zKA3",
        "outputId": "508f187e-d6d8-4665-bc35-a2d578ddad4c"
      },
      "execution_count": null,
      "outputs": [
        {
          "output_type": "stream",
          "name": "stdout",
          "text": [
            "Model: \"sequential_1\"\n",
            "_________________________________________________________________\n",
            " Layer (type)                Output Shape              Param #   \n",
            "=================================================================\n",
            " lstm (LSTM)                 (None, 11, 50)            10400     \n",
            "                                                                 \n",
            " dropout (Dropout)           (None, 11, 50)            0         \n",
            "                                                                 \n",
            " lstm_1 (LSTM)               (None, 11, 50)            20200     \n",
            "                                                                 \n",
            " dropout_1 (Dropout)         (None, 11, 50)            0         \n",
            "                                                                 \n",
            " lstm_2 (LSTM)               (None, 11, 50)            20200     \n",
            "                                                                 \n",
            " dropout_2 (Dropout)         (None, 11, 50)            0         \n",
            "                                                                 \n",
            " lstm_3 (LSTM)               (None, 50)                20200     \n",
            "                                                                 \n",
            " dropout_3 (Dropout)         (None, 50)                0         \n",
            "                                                                 \n",
            " dense (Dense)               (None, 2)                 102       \n",
            "                                                                 \n",
            "=================================================================\n",
            "Total params: 71,102\n",
            "Trainable params: 71,102\n",
            "Non-trainable params: 0\n",
            "_________________________________________________________________\n"
          ]
        }
      ]
    },
    {
      "cell_type": "code",
      "source": [
        "history = regressor.fit(X_train, y_train, epochs = 100, batch_size = 32, validation_data=(X_val,y_val))"
      ],
      "metadata": {
        "colab": {
          "base_uri": "https://localhost:8080/"
        },
        "id": "meFn2OqpJU5_",
        "outputId": "46f0b754-d21b-45f9-f91c-656f3e198e72"
      },
      "execution_count": null,
      "outputs": [
        {
          "output_type": "stream",
          "name": "stdout",
          "text": [
            "Epoch 1/100\n",
            "21/21 [==============================] - 12s 83ms/step - loss: 1.1420 - val_loss: 0.7423\n",
            "Epoch 2/100\n",
            "21/21 [==============================] - 0s 11ms/step - loss: 0.7275 - val_loss: 0.6937\n",
            "Epoch 3/100\n",
            "21/21 [==============================] - 0s 10ms/step - loss: 0.6946 - val_loss: 0.6943\n",
            "Epoch 4/100\n",
            "21/21 [==============================] - 0s 10ms/step - loss: 0.6878 - val_loss: 0.6858\n",
            "Epoch 5/100\n",
            "21/21 [==============================] - 0s 10ms/step - loss: 0.6733 - val_loss: 0.7056\n",
            "Epoch 6/100\n",
            "21/21 [==============================] - 0s 11ms/step - loss: 0.6681 - val_loss: 0.6925\n",
            "Epoch 7/100\n",
            "21/21 [==============================] - 0s 11ms/step - loss: 0.6787 - val_loss: 0.6842\n",
            "Epoch 8/100\n",
            "21/21 [==============================] - 0s 11ms/step - loss: 0.6752 - val_loss: 0.6855\n",
            "Epoch 9/100\n",
            "21/21 [==============================] - 0s 10ms/step - loss: 0.6593 - val_loss: 0.6925\n",
            "Epoch 10/100\n",
            "21/21 [==============================] - 0s 10ms/step - loss: 0.6679 - val_loss: 0.6845\n",
            "Epoch 11/100\n",
            "21/21 [==============================] - 0s 12ms/step - loss: 0.6590 - val_loss: 0.7419\n",
            "Epoch 12/100\n",
            "21/21 [==============================] - 0s 10ms/step - loss: 0.6790 - val_loss: 0.6855\n",
            "Epoch 13/100\n",
            "21/21 [==============================] - 0s 11ms/step - loss: 0.6640 - val_loss: 0.6847\n",
            "Epoch 14/100\n",
            "21/21 [==============================] - 0s 11ms/step - loss: 0.6554 - val_loss: 0.7089\n",
            "Epoch 15/100\n",
            "21/21 [==============================] - 0s 11ms/step - loss: 0.6631 - val_loss: 0.6921\n",
            "Epoch 16/100\n",
            "21/21 [==============================] - 0s 11ms/step - loss: 0.6557 - val_loss: 0.6843\n",
            "Epoch 17/100\n",
            "21/21 [==============================] - 0s 11ms/step - loss: 0.6534 - val_loss: 0.6948\n",
            "Epoch 18/100\n",
            "21/21 [==============================] - 0s 11ms/step - loss: 0.6394 - val_loss: 0.7003\n",
            "Epoch 19/100\n",
            "21/21 [==============================] - 0s 10ms/step - loss: 0.6659 - val_loss: 0.6886\n",
            "Epoch 20/100\n",
            "21/21 [==============================] - 0s 12ms/step - loss: 0.6572 - val_loss: 0.6959\n",
            "Epoch 21/100\n",
            "21/21 [==============================] - 0s 10ms/step - loss: 0.6501 - val_loss: 0.6970\n",
            "Epoch 22/100\n",
            "21/21 [==============================] - 0s 11ms/step - loss: 0.6883 - val_loss: 0.6826\n",
            "Epoch 23/100\n",
            "21/21 [==============================] - 0s 12ms/step - loss: 0.6533 - val_loss: 0.6843\n",
            "Epoch 24/100\n",
            "21/21 [==============================] - 0s 11ms/step - loss: 0.6550 - val_loss: 0.6911\n",
            "Epoch 25/100\n",
            "21/21 [==============================] - 0s 10ms/step - loss: 0.6527 - val_loss: 0.6828\n",
            "Epoch 26/100\n",
            "21/21 [==============================] - 0s 11ms/step - loss: 0.6598 - val_loss: 0.6859\n",
            "Epoch 27/100\n",
            "21/21 [==============================] - 0s 10ms/step - loss: 0.6509 - val_loss: 0.6987\n",
            "Epoch 28/100\n",
            "21/21 [==============================] - 0s 12ms/step - loss: 0.6566 - val_loss: 0.6813\n",
            "Epoch 29/100\n",
            "21/21 [==============================] - 0s 10ms/step - loss: 0.6495 - val_loss: 0.7151\n",
            "Epoch 30/100\n",
            "21/21 [==============================] - 0s 11ms/step - loss: 0.6429 - val_loss: 0.6913\n",
            "Epoch 31/100\n",
            "21/21 [==============================] - 0s 13ms/step - loss: 0.6411 - val_loss: 0.6997\n",
            "Epoch 32/100\n",
            "21/21 [==============================] - 0s 12ms/step - loss: 0.6531 - val_loss: 0.6884\n",
            "Epoch 33/100\n",
            "21/21 [==============================] - 0s 10ms/step - loss: 0.6485 - val_loss: 0.6881\n",
            "Epoch 34/100\n",
            "21/21 [==============================] - 0s 10ms/step - loss: 0.6447 - val_loss: 0.7012\n",
            "Epoch 35/100\n",
            "21/21 [==============================] - 0s 11ms/step - loss: 0.6554 - val_loss: 0.6802\n",
            "Epoch 36/100\n",
            "21/21 [==============================] - 0s 10ms/step - loss: 0.6473 - val_loss: 0.7071\n",
            "Epoch 37/100\n",
            "21/21 [==============================] - 0s 10ms/step - loss: 0.6472 - val_loss: 0.6885\n",
            "Epoch 38/100\n",
            "21/21 [==============================] - 0s 10ms/step - loss: 0.6412 - val_loss: 0.6886\n",
            "Epoch 39/100\n",
            "21/21 [==============================] - 0s 11ms/step - loss: 0.6626 - val_loss: 0.7063\n",
            "Epoch 40/100\n",
            "21/21 [==============================] - 0s 10ms/step - loss: 0.6572 - val_loss: 0.7201\n",
            "Epoch 41/100\n",
            "21/21 [==============================] - 0s 10ms/step - loss: 0.6754 - val_loss: 0.6812\n",
            "Epoch 42/100\n",
            "21/21 [==============================] - 0s 11ms/step - loss: 0.6489 - val_loss: 0.6987\n",
            "Epoch 43/100\n",
            "21/21 [==============================] - 0s 10ms/step - loss: 0.6467 - val_loss: 0.6949\n",
            "Epoch 44/100\n",
            "21/21 [==============================] - 0s 11ms/step - loss: 0.6455 - val_loss: 0.6846\n",
            "Epoch 45/100\n",
            "21/21 [==============================] - 0s 10ms/step - loss: 0.6413 - val_loss: 0.6858\n",
            "Epoch 46/100\n",
            "21/21 [==============================] - 0s 11ms/step - loss: 0.6393 - val_loss: 0.6834\n",
            "Epoch 47/100\n",
            "21/21 [==============================] - 0s 10ms/step - loss: 0.6527 - val_loss: 0.6851\n",
            "Epoch 48/100\n",
            "21/21 [==============================] - 0s 11ms/step - loss: 0.6323 - val_loss: 0.6958\n",
            "Epoch 49/100\n",
            "21/21 [==============================] - 0s 10ms/step - loss: 0.6362 - val_loss: 0.6944\n",
            "Epoch 50/100\n",
            "21/21 [==============================] - 0s 10ms/step - loss: 0.6398 - val_loss: 0.6965\n",
            "Epoch 51/100\n",
            "21/21 [==============================] - 0s 11ms/step - loss: 0.6434 - val_loss: 0.6971\n",
            "Epoch 52/100\n",
            "21/21 [==============================] - 0s 10ms/step - loss: 0.6392 - val_loss: 0.6884\n",
            "Epoch 53/100\n",
            "21/21 [==============================] - 0s 11ms/step - loss: 0.6353 - val_loss: 0.6936\n",
            "Epoch 54/100\n",
            "21/21 [==============================] - 0s 12ms/step - loss: 0.6411 - val_loss: 0.7123\n",
            "Epoch 55/100\n",
            "21/21 [==============================] - 0s 11ms/step - loss: 0.6471 - val_loss: 0.7050\n",
            "Epoch 56/100\n",
            "21/21 [==============================] - 0s 10ms/step - loss: 0.6492 - val_loss: 0.6814\n",
            "Epoch 57/100\n",
            "21/21 [==============================] - 0s 10ms/step - loss: 0.6439 - val_loss: 0.6876\n",
            "Epoch 58/100\n",
            "21/21 [==============================] - 0s 10ms/step - loss: 0.6467 - val_loss: 0.6815\n",
            "Epoch 59/100\n",
            "21/21 [==============================] - 0s 10ms/step - loss: 0.6427 - val_loss: 0.6875\n",
            "Epoch 60/100\n",
            "21/21 [==============================] - 0s 10ms/step - loss: 0.6434 - val_loss: 0.6812\n",
            "Epoch 61/100\n",
            "21/21 [==============================] - 0s 10ms/step - loss: 0.6440 - val_loss: 0.6928\n",
            "Epoch 62/100\n",
            "21/21 [==============================] - 0s 11ms/step - loss: 0.6334 - val_loss: 0.6863\n",
            "Epoch 63/100\n",
            "21/21 [==============================] - 0s 10ms/step - loss: 0.6333 - val_loss: 0.6926\n",
            "Epoch 64/100\n",
            "21/21 [==============================] - 0s 10ms/step - loss: 0.6320 - val_loss: 0.6980\n",
            "Epoch 65/100\n",
            "21/21 [==============================] - 0s 10ms/step - loss: 0.6525 - val_loss: 0.6864\n",
            "Epoch 66/100\n",
            "21/21 [==============================] - 0s 11ms/step - loss: 0.6289 - val_loss: 0.6938\n",
            "Epoch 67/100\n",
            "21/21 [==============================] - 0s 11ms/step - loss: 0.6350 - val_loss: 0.6901\n",
            "Epoch 68/100\n",
            "21/21 [==============================] - 0s 10ms/step - loss: 0.6394 - val_loss: 0.6993\n",
            "Epoch 69/100\n",
            "21/21 [==============================] - 0s 10ms/step - loss: 0.6327 - val_loss: 0.6954\n",
            "Epoch 70/100\n",
            "21/21 [==============================] - 0s 10ms/step - loss: 0.6307 - val_loss: 0.7020\n",
            "Epoch 71/100\n",
            "21/21 [==============================] - 0s 12ms/step - loss: 0.6304 - val_loss: 0.6919\n",
            "Epoch 72/100\n",
            "21/21 [==============================] - 0s 10ms/step - loss: 0.6336 - val_loss: 0.6972\n",
            "Epoch 73/100\n",
            "21/21 [==============================] - 0s 10ms/step - loss: 0.6261 - val_loss: 0.6974\n",
            "Epoch 74/100\n",
            "21/21 [==============================] - 0s 10ms/step - loss: 0.6323 - val_loss: 0.6968\n",
            "Epoch 75/100\n",
            "21/21 [==============================] - 0s 12ms/step - loss: 0.6320 - val_loss: 0.6944\n",
            "Epoch 76/100\n",
            "21/21 [==============================] - 0s 11ms/step - loss: 0.6366 - val_loss: 0.6960\n",
            "Epoch 77/100\n",
            "21/21 [==============================] - 0s 10ms/step - loss: 0.6294 - val_loss: 0.6899\n",
            "Epoch 78/100\n",
            "21/21 [==============================] - 0s 12ms/step - loss: 0.6275 - val_loss: 0.7007\n",
            "Epoch 79/100\n",
            "21/21 [==============================] - 0s 10ms/step - loss: 0.6298 - val_loss: 0.6854\n",
            "Epoch 80/100\n",
            "21/21 [==============================] - 0s 11ms/step - loss: 0.6419 - val_loss: 0.6953\n",
            "Epoch 81/100\n",
            "21/21 [==============================] - 0s 10ms/step - loss: 0.6508 - val_loss: 0.6881\n",
            "Epoch 82/100\n",
            "21/21 [==============================] - 0s 11ms/step - loss: 0.6286 - val_loss: 0.6958\n",
            "Epoch 83/100\n",
            "21/21 [==============================] - 0s 10ms/step - loss: 0.6257 - val_loss: 0.6986\n",
            "Epoch 84/100\n",
            "21/21 [==============================] - 0s 10ms/step - loss: 0.6226 - val_loss: 0.7336\n",
            "Epoch 85/100\n",
            "21/21 [==============================] - 0s 10ms/step - loss: 0.6190 - val_loss: 0.7062\n",
            "Epoch 86/100\n",
            "21/21 [==============================] - 0s 10ms/step - loss: 0.6348 - val_loss: 0.6898\n",
            "Epoch 87/100\n",
            "21/21 [==============================] - 0s 10ms/step - loss: 0.6317 - val_loss: 0.6861\n",
            "Epoch 88/100\n",
            "21/21 [==============================] - 0s 10ms/step - loss: 0.6310 - val_loss: 0.7098\n",
            "Epoch 89/100\n",
            "21/21 [==============================] - 0s 10ms/step - loss: 0.6368 - val_loss: 0.6931\n",
            "Epoch 90/100\n",
            "21/21 [==============================] - 0s 10ms/step - loss: 0.6216 - val_loss: 0.7115\n",
            "Epoch 91/100\n",
            "21/21 [==============================] - 0s 12ms/step - loss: 0.6387 - val_loss: 0.6846\n",
            "Epoch 92/100\n",
            "21/21 [==============================] - 0s 11ms/step - loss: 0.6300 - val_loss: 0.7050\n",
            "Epoch 93/100\n",
            "21/21 [==============================] - 0s 11ms/step - loss: 0.6396 - val_loss: 0.6952\n",
            "Epoch 94/100\n",
            "21/21 [==============================] - 0s 11ms/step - loss: 0.6207 - val_loss: 0.7141\n",
            "Epoch 95/100\n",
            "21/21 [==============================] - 0s 11ms/step - loss: 0.6196 - val_loss: 0.7054\n",
            "Epoch 96/100\n",
            "21/21 [==============================] - 0s 11ms/step - loss: 0.6110 - val_loss: 0.7051\n",
            "Epoch 97/100\n",
            "21/21 [==============================] - 0s 10ms/step - loss: 0.6207 - val_loss: 0.6991\n",
            "Epoch 98/100\n",
            "21/21 [==============================] - 0s 12ms/step - loss: 0.6347 - val_loss: 0.6922\n",
            "Epoch 99/100\n",
            "21/21 [==============================] - 0s 10ms/step - loss: 0.6175 - val_loss: 0.7137\n",
            "Epoch 100/100\n",
            "21/21 [==============================] - 0s 10ms/step - loss: 0.6177 - val_loss: 0.7159\n"
          ]
        }
      ]
    },
    {
      "cell_type": "code",
      "source": [
        "prediction = regressor.predict(X_test)\n"
      ],
      "metadata": {
        "id": "GXIhaybtmrJK"
      },
      "execution_count": null,
      "outputs": []
    },
    {
      "cell_type": "code",
      "source": [
        "plt.plot(history.history['loss'])"
      ],
      "metadata": {
        "colab": {
          "base_uri": "https://localhost:8080/",
          "height": 282
        },
        "id": "lu9yTpPdS0HJ",
        "outputId": "4fe61a39-8a8a-4ac2-90f0-66aded6677c2"
      },
      "execution_count": null,
      "outputs": [
        {
          "output_type": "execute_result",
          "data": {
            "text/plain": [
              "[<matplotlib.lines.Line2D at 0x7f102e44d310>]"
            ]
          },
          "metadata": {},
          "execution_count": 11
        },
        {
          "output_type": "display_data",
          "data": {
            "text/plain": [
              "<Figure size 432x288 with 1 Axes>"
            ],
            "image/png": "[encoded data removed]"
          },
          "metadata": {
            "needs_background": "light"
          }
        }
      ]
    },
    {
      "cell_type": "code",
      "source": [
        "plt.plot(history.history['val_loss'])"
      ],
      "metadata": {
        "colab": {
          "base_uri": "https://localhost:8080/",
          "height": 282
        },
        "id": "xuuDy_ciuFK6",
        "outputId": "4214db3e-3295-4828-e150-5f40239336b8"
      },
      "execution_count": null,
      "outputs": [
        {
          "output_type": "execute_result",
          "data": {
            "text/plain": [
              "[<matplotlib.lines.Line2D at 0x7f102e1e2b50>]"
            ]
          },
          "metadata": {},
          "execution_count": 12
        },
        {
          "output_type": "display_data",
          "data": {
            "text/plain": [
              "<Figure size 432x288 with 1 Axes>"
            ],
            "image/png": "[encoded data removed]"
          },
          "metadata": {
            "needs_background": "light"
          }
        }
      ]
    },
    {
      "cell_type": "code",
      "source": [
        "values = []\n",
        "for i in range(len(prediction[:,0])):\n",
        "  if prediction[i,0] < prediction[i,1]:\n",
        "    values.append(0)\n",
        "  else:\n",
        "    values.append(1)\n"
      ],
      "metadata": {
        "id": "NlN8Ul6Umwgp"
      },
      "execution_count": null,
      "outputs": []
    },
    {
      "cell_type": "code",
      "source": [
        "accuracy_score(y_test, values)"
      ],
      "metadata": {
        "colab": {
          "base_uri": "https://localhost:8080/"
        },
        "id": "nIWQDAYFpgEt",
        "outputId": "5f424fcd-28dd-49a8-a193-fe4ba276abeb"
      },
      "execution_count": null,
      "outputs": [
        {
          "output_type": "execute_result",
          "data": {
            "text/plain": [
              "0.6468085106382979"
            ]
          },
          "metadata": {},
          "execution_count": 14
        }
      ]
    },
    {
      "cell_type": "markdown",
      "source": [
        "# Predict outcome of future games:"
      ],
      "metadata": {
        "id": "E4kt9VIBoVcV"
      }
    },
    {
      "cell_type": "code",
      "source": [
        "today=pd.read_excel('20220421.xlsx')\n",
        "\n",
        "#https://towardsdatascience.com/can-we-beat-the-bookmaker-with-machine-learning-45e3b30fc921\n",
        "\n",
        "\n",
        "# assigning the games' home teams their corresponding team id\n",
        "homeId = [teamToIdx[id] for id in list(today['Home'].values)]\n",
        "today['Home_Id'] = homeId #creating a new column for the home team id\n",
        "\n",
        "# assigning the games' Visitors teams their corresponding team id\n",
        "visitorsId = [teamToIdx[id] for id in list(today['Visitors'].values)]\n",
        "today['Visitors_Id'] = visitorsId # creating a new row for the away team id"
      ],
      "metadata": {
        "id": "L8qhXu-Qk-5p"
      },
      "execution_count": null,
      "outputs": []
    },
    {
      "cell_type": "code",
      "source": [
        "X = today.drop(columns=['Home','Visitors',\"Date\", \"Home Goals\", \"Visitors Goals\"])\n",
        "prediction = regressor.predict(X)\n",
        "\n",
        "values = []\n",
        "for i in range(len(prediction[:,0])):\n",
        "  if prediction[i,0] < prediction[i,1]:\n",
        "    values.append(0)\n",
        "  else:\n",
        "    values.append(1)"
      ],
      "metadata": {
        "id": "5DdEfaR3o9Qp"
      },
      "execution_count": null,
      "outputs": []
    },
    {
      "cell_type": "code",
      "source": [
        "pd.DataFrame(values).to_csv(\"file.csv\")"
      ],
      "metadata": {
        "id": "d2yP2rGrpHJV"
      },
      "execution_count": null,
      "outputs": []
    }
  ]
}