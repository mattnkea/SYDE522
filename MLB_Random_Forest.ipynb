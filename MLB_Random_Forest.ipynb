{
  "nbformat": 4,
  "nbformat_minor": 0,
  "metadata": {
    "colab": {
      "name": "MLB Random Forest.ipynb",
      "provenance": [],
      "collapsed_sections": []
    },
    "kernelspec": {
      "name": "python3",
      "display_name": "Python 3"
    },
    "language_info": {
      "name": "python"
    }
  },
  "cells": [
    {
      "cell_type": "code",
      "execution_count": 1,
      "metadata": {
        "id": "geN7OVHhHL50"
      },
      "outputs": [],
      "source": [
        "import pandas as pd\n",
        "import numpy as np\n",
        "from sklearn.model_selection import train_test_split\n",
        "\n",
        "\n",
        "from sklearn.ensemble import RandomForestClassifier\n",
        "import matplotlib.pyplot as plt\n",
        "from sklearn.metrics import accuracy_score"
      ]
    },
    {
      "cell_type": "code",
      "source": [
        "df = pd.read_excel(\"mlb odds 2021.xlsx\")\n",
        "pitchers = pd.read_excel(\"Pitchers.xlsx\")"
      ],
      "metadata": {
        "id": "aH4qkXDUHUv-"
      },
      "execution_count": 3,
      "outputs": []
    },
    {
      "cell_type": "code",
      "source": [
        "#https://towardsdatascience.com/can-we-beat-the-bookmaker-with-machine-learning-45e3b30fc921\n",
        "teams = list(set(df['Home Team'].values)) # creating a list containing every team\n",
        "n_teams = len(teams) # number of teams\n",
        "teamToIdx = {t: i for i, t in enumerate(teams)} # our team vocabulary\n",
        "\n",
        "# assigning the games' home teams their corresponding team id\n",
        "homeId = [teamToIdx[id] for id in list(df['Home Team'].values)]\n",
        "df['Home_Id'] = homeId #creating a new column for the home team id\n",
        "\n",
        "# assigning the games' Visitors teams their corresponding team id\n",
        "visitorsId = [teamToIdx[id] for id in list(df['Away Team'].values)]\n",
        "df['Away_Id'] = visitorsId # creating a new row for the away team id\n",
        "\n",
        "pitchers = list(set(pitchers['Home Pitcher'].values)) # creating a list containing every team\n",
        "n_picters = len(pitchers) # number of teams\n",
        "pitcherToIdx = {t: i for i, t in enumerate(pitchers)} # our team vocabulary\n",
        "\n",
        "# assigning the games' home teams their corresponding team id\n",
        "homePitcherId = [pitcherToIdx[id] for id in list(df['Home Pitcher'].values)]\n",
        "df['HomePitcher_Id'] = homePitcherId #creating a new column for the home team id\n",
        "\n",
        "# assigning the games' Visitors teams their corresponding team id\n",
        "visitorsPitcherId = [pitcherToIdx[id] for id in list(df['Away Pitcher'].values)]\n",
        "df['AwayPitcher_Id'] = visitorsPitcherId # creating a new row for the away team id"
      ],
      "metadata": {
        "id": "bOn9YX6kJCAu"
      },
      "execution_count": 4,
      "outputs": []
    },
    {
      "cell_type": "code",
      "source": [
        "df.info()"
      ],
      "metadata": {
        "colab": {
          "base_uri": "https://localhost:8080/"
        },
        "id": "pwre3Q5TTmiB",
        "outputId": "ffa6cdbb-5b0e-45b1-ffb4-0975b2db7236"
      },
      "execution_count": 5,
      "outputs": [
        {
          "output_type": "stream",
          "name": "stdout",
          "text": [
            "<class 'pandas.core.frame.DataFrame'>\n",
            "RangeIndex: 2644 entries, 0 to 2643\n",
            "Data columns (total 21 columns):\n",
            " #   Column             Non-Null Count  Dtype  \n",
            "---  ------             --------------  -----  \n",
            " 0   Date               2644 non-null   int64  \n",
            " 1   Home Team          2644 non-null   object \n",
            " 2   Home Pitcher       2644 non-null   object \n",
            " 3   Home Score         2644 non-null   int64  \n",
            " 4   Home Odds          2644 non-null   int64  \n",
            " 5   Home RunLine       2644 non-null   float64\n",
            " 6   Home RunLine Odds  2644 non-null   int64  \n",
            " 7   OpenOU             2644 non-null   float64\n",
            " 8   Under Odds         2644 non-null   int64  \n",
            " 9   Away Team          2644 non-null   object \n",
            " 10  Away Pitcher       2644 non-null   object \n",
            " 11  Away Score         2644 non-null   int64  \n",
            " 12  Away Odds          2644 non-null   int64  \n",
            " 13  Away RunLine       2644 non-null   float64\n",
            " 14  Away RunLine Odds  2644 non-null   int64  \n",
            " 15  Over Odds          2644 non-null   int64  \n",
            " 16  Winner             2644 non-null   int64  \n",
            " 17  Home_Id            2644 non-null   int64  \n",
            " 18  Away_Id            2644 non-null   int64  \n",
            " 19  HomePitcher_Id     2644 non-null   int64  \n",
            " 20  AwayPitcher_Id     2644 non-null   int64  \n",
            "dtypes: float64(3), int64(14), object(4)\n",
            "memory usage: 433.9+ KB\n"
          ]
        }
      ]
    },
    {
      "cell_type": "code",
      "source": [
        "X = df.drop(columns=['Winner','Home Team','Home Pitcher',\"Home Score\", \"Away Team\", \"Away Score\", \"Away Pitcher\"])\n",
        "Y = df['Winner']"
      ],
      "metadata": {
        "id": "72c8SsJ9HjO-"
      },
      "execution_count": 6,
      "outputs": []
    },
    {
      "cell_type": "code",
      "source": [
        "X_train, X_test, y_train, y_test = train_test_split(X, Y, test_size=0.2, shuffle=False)\n"
      ],
      "metadata": {
        "id": "f9l8X_nGHk_j"
      },
      "execution_count": 7,
      "outputs": []
    },
    {
      "cell_type": "code",
      "source": [
        "rf = RandomForestClassifier(n_estimators = 400)\n",
        "rf.fit(X_train, y_train)"
      ],
      "metadata": {
        "colab": {
          "base_uri": "https://localhost:8080/"
        },
        "id": "s9N7iPQFhcPy",
        "outputId": "892ba16c-5c90-4cfc-def2-9bb5fc33badd"
      },
      "execution_count": 8,
      "outputs": [
        {
          "output_type": "execute_result",
          "data": {
            "text/plain": [
              "RandomForestClassifier(n_estimators=400)"
            ]
          },
          "metadata": {},
          "execution_count": 8
        }
      ]
    },
    {
      "cell_type": "code",
      "source": [
        "prediction = rf.predict(X_test)\n",
        "accuracy = accuracy_score(y_test, prediction)\n",
        "print(\"Model is {:.2%} accurate on test data\".format(accuracy))"
      ],
      "metadata": {
        "id": "JgZxynXNlGaP",
        "colab": {
          "base_uri": "https://localhost:8080/"
        },
        "outputId": "ee91d2db-142e-4cda-c01c-9f5f720a39b2"
      },
      "execution_count": 12,
      "outputs": [
        {
          "output_type": "stream",
          "name": "stdout",
          "text": [
            "Model is 53.88% accurate on test data\n"
          ]
        }
      ]
    },
    {
      "cell_type": "code",
      "source": [
        "def decimal_odds(amount):\n",
        "  if amount > 0:  #If postive\n",
        "    decimal = amount/100 + 1\n",
        "  else:           #If negative\n",
        "    decimal = 1 - 100/amount \n",
        "  return decimal"
      ],
      "metadata": {
        "id": "WvdJdPV5PE7b"
      },
      "execution_count": 13,
      "outputs": []
    },
    {
      "cell_type": "code",
      "source": [
        "units = 50\n",
        "\n",
        "\n",
        "home_odds = np.array(X_test.loc[:,'Home Odds'])\n",
        "visitors_odds = np.array(X_test.loc[:,'Away Odds'])\n",
        "game_outcome = np.array(y_test)\n",
        "\n",
        "total_bets_placed = 0\n",
        "\n",
        "possible_winnings = np.zeros(len(home_odds))\n",
        "\n",
        "for i in range(len(possible_winnings)):\n",
        "  total_bets_placed = total_bets_placed + units\n",
        "\n",
        "  if  (game_outcome[i]+prediction[i]) == 2: #\u0010Home team wins and prediction correct\n",
        "    possible_winnings[i] = units * decimal_odds(home_odds[i])\n",
        "  elif (game_outcome[i]+prediction[i]) == 0: #Visitors team wins and prediction correct\n",
        "    possible_winnings[i] = units * decimal_odds(visitors_odds[i])\n",
        "  else:\n",
        "    possible_winnings[i] = 0\n",
        "\n",
        "\n",
        "winnings = sum(possible_winnings) - total_bets_placed\n",
        "\n",
        "print(\"If we were to place ${:.2f} on every test bet and win {:.2%} of the time, we would win ${:.2f}\".format(units,accuracy,winnings))  "
      ],
      "metadata": {
        "colab": {
          "base_uri": "https://localhost:8080/"
        },
        "id": "okfqTkumF9Uz",
        "outputId": "a0d832ca-34ee-4f31-c804-401ede688c58"
      },
      "execution_count": 14,
      "outputs": [
        {
          "output_type": "stream",
          "name": "stdout",
          "text": [
            "If we were to place $50.00 on every test bet and win 53.88% of the time, we would win $-1921.74\n"
          ]
        }
      ]
    }
  ]
}